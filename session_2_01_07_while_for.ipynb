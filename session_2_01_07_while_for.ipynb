{
 "cells": [
  {
   "cell_type": "markdown",
   "metadata": {},
   "source": [
    "[1,5,6,7,12,14,15,18,19,32,25] listesinin tek elemanlarının karesini, çift elemanlarının 2 katını liste halinde döndüren while döngüsünü yazın"
   ]
  },
  {
   "cell_type": "code",
   "execution_count": 3,
   "metadata": {},
   "outputs": [
    {
     "name": "stdout",
     "output_type": "stream",
     "text": [
      "[1, 25, 12, 49, 24, 28, 225, 36, 361, 64, 625]\n"
     ]
    }
   ],
   "source": [
    "sayılar_listesi = [1,5,6,7,12,14,15,18,19,32,25]\n",
    "\n",
    "x = 0\n",
    "\n",
    "sonuç_listesi = []\n",
    "\n",
    "while x < len(sayılar_listesi):\n",
    "\n",
    "    if sayılar_listesi[x] % 2:\n",
    "        sonuç_listesi.append(sayılar_listesi[x] ** 2)\n",
    "    \n",
    "    else:\n",
    "        sonuç_listesi.append(sayılar_listesi[x] * 2)\n",
    "\n",
    "    x += 1\n",
    "\n",
    "print(sonuç_listesi)\n"
   ]
  },
  {
   "cell_type": "code",
   "execution_count": 2,
   "metadata": {},
   "outputs": [
    {
     "data": {
      "text/plain": [
       "1"
      ]
     },
     "execution_count": 2,
     "metadata": {},
     "output_type": "execute_result"
    }
   ],
   "source": [
    "7 % 2"
   ]
  },
  {
   "cell_type": "markdown",
   "metadata": {},
   "source": [
    "## random modülü"
   ]
  },
  {
   "cell_type": "code",
   "execution_count": 3,
   "metadata": {},
   "outputs": [
    {
     "ename": "SyntaxError",
     "evalue": "invalid syntax (2942775573.py, line 1)",
     "output_type": "error",
     "traceback": [
      "\u001b[1;36m  Cell \u001b[1;32mIn[3], line 1\u001b[1;36m\u001b[0m\n\u001b[1;33m    random.\u001b[0m\n\u001b[1;37m           ^\u001b[0m\n\u001b[1;31mSyntaxError\u001b[0m\u001b[1;31m:\u001b[0m invalid syntax\n"
     ]
    }
   ],
   "source": [
    "random."
   ]
  },
  {
   "cell_type": "code",
   "execution_count": 2,
   "metadata": {},
   "outputs": [],
   "source": [
    "import random  # import ifadesi modülü notebook a aktarmak için kullanılır. "
   ]
  },
  {
   "cell_type": "code",
   "execution_count": 4,
   "metadata": {},
   "outputs": [
    {
     "data": {
      "text/plain": [
       "0.17455584307273952"
      ]
     },
     "execution_count": 4,
     "metadata": {},
     "output_type": "execute_result"
    }
   ],
   "source": [
    "random.random() # 0 dahil 1 dahil değil - arasında sayılar üretir."
   ]
  },
  {
   "cell_type": "code",
   "execution_count": 5,
   "metadata": {},
   "outputs": [
    {
     "data": {
      "text/plain": [
       "0.6394267984578837"
      ]
     },
     "execution_count": 5,
     "metadata": {},
     "output_type": "execute_result"
    }
   ],
   "source": [
    "random.seed(42)\n",
    "random.random()"
   ]
  },
  {
   "cell_type": "code",
   "execution_count": 6,
   "metadata": {},
   "outputs": [
    {
     "data": {
      "text/plain": [
       "0.025010755222666936"
      ]
     },
     "execution_count": 6,
     "metadata": {},
     "output_type": "execute_result"
    }
   ],
   "source": [
    "random.random()"
   ]
  },
  {
   "cell_type": "code",
   "execution_count": 7,
   "metadata": {},
   "outputs": [
    {
     "data": {
      "text/plain": [
       "7"
      ]
     },
     "execution_count": 7,
     "metadata": {},
     "output_type": "execute_result"
    }
   ],
   "source": [
    "random.randint(3,10) # int değerler üretir. "
   ]
  },
  {
   "cell_type": "code",
   "execution_count": 8,
   "metadata": {},
   "outputs": [
    {
     "data": {
      "text/plain": [
       "[15, 14, 8, 6, 43, 34]"
      ]
     },
     "execution_count": 8,
     "metadata": {},
     "output_type": "execute_result"
    }
   ],
   "source": [
    "random.sample(range(49), 6) # belirtilen aralık ta belirtilen sayı kadar rastgle üretir. "
   ]
  },
  {
   "cell_type": "code",
   "execution_count": 9,
   "metadata": {},
   "outputs": [],
   "source": [
    "liste= [\"murat\", 15, 3.14, \"cenk\", False]"
   ]
  },
  {
   "cell_type": "code",
   "execution_count": 11,
   "metadata": {},
   "outputs": [
    {
     "data": {
      "text/plain": [
       "['murat', False]"
      ]
     },
     "execution_count": 11,
     "metadata": {},
     "output_type": "execute_result"
    }
   ],
   "source": [
    "random.sample(liste, 2)"
   ]
  },
  {
   "cell_type": "code",
   "execution_count": 12,
   "metadata": {},
   "outputs": [],
   "source": [
    "dict= {\"a\": 1, \"b\":2, \"c\":3}"
   ]
  },
  {
   "cell_type": "code",
   "execution_count": 13,
   "metadata": {},
   "outputs": [
    {
     "ename": "TypeError",
     "evalue": "Population must be a sequence.  For dicts or sets, use sorted(d).",
     "output_type": "error",
     "traceback": [
      "\u001b[1;31m---------------------------------------------------------------------------\u001b[0m",
      "\u001b[1;31mTypeError\u001b[0m                                 Traceback (most recent call last)",
      "Cell \u001b[1;32mIn[13], line 1\u001b[0m\n\u001b[1;32m----> 1\u001b[0m \u001b[43mrandom\u001b[49m\u001b[38;5;241;43m.\u001b[39;49m\u001b[43msample\u001b[49m\u001b[43m(\u001b[49m\u001b[38;5;28;43mdict\u001b[39;49m\u001b[43m,\u001b[49m\u001b[43m \u001b[49m\u001b[38;5;241;43m2\u001b[39;49m\u001b[43m)\u001b[49m\n",
      "File \u001b[1;32mc:\\Users\\muham\\AppData\\Local\\Programs\\Python\\Python312\\Lib\\random.py:413\u001b[0m, in \u001b[0;36mRandom.sample\u001b[1;34m(self, population, k, counts)\u001b[0m\n\u001b[0;32m    389\u001b[0m \u001b[38;5;66;03m# Sampling without replacement entails tracking either potential\u001b[39;00m\n\u001b[0;32m    390\u001b[0m \u001b[38;5;66;03m# selections (the pool) in a list or previous selections in a set.\u001b[39;00m\n\u001b[0;32m    391\u001b[0m \n\u001b[1;32m   (...)\u001b[0m\n\u001b[0;32m    409\u001b[0m \u001b[38;5;66;03m# too many calls to _randbelow(), making them slower and\u001b[39;00m\n\u001b[0;32m    410\u001b[0m \u001b[38;5;66;03m# causing them to eat more entropy than necessary.\u001b[39;00m\n\u001b[0;32m    412\u001b[0m \u001b[38;5;28;01mif\u001b[39;00m \u001b[38;5;129;01mnot\u001b[39;00m \u001b[38;5;28misinstance\u001b[39m(population, _Sequence):\n\u001b[1;32m--> 413\u001b[0m     \u001b[38;5;28;01mraise\u001b[39;00m \u001b[38;5;167;01mTypeError\u001b[39;00m(\u001b[38;5;124m\"\u001b[39m\u001b[38;5;124mPopulation must be a sequence.  \u001b[39m\u001b[38;5;124m\"\u001b[39m\n\u001b[0;32m    414\u001b[0m                     \u001b[38;5;124m\"\u001b[39m\u001b[38;5;124mFor dicts or sets, use sorted(d).\u001b[39m\u001b[38;5;124m\"\u001b[39m)\n\u001b[0;32m    415\u001b[0m n \u001b[38;5;241m=\u001b[39m \u001b[38;5;28mlen\u001b[39m(population)\n\u001b[0;32m    416\u001b[0m \u001b[38;5;28;01mif\u001b[39;00m counts \u001b[38;5;129;01mis\u001b[39;00m \u001b[38;5;129;01mnot\u001b[39;00m \u001b[38;5;28;01mNone\u001b[39;00m:\n",
      "\u001b[1;31mTypeError\u001b[0m: Population must be a sequence.  For dicts or sets, use sorted(d)."
     ]
    }
   ],
   "source": [
    "random.sample(dict, 2)"
   ]
  },
  {
   "cell_type": "code",
   "execution_count": 14,
   "metadata": {},
   "outputs": [],
   "source": [
    "y = True\n",
    "import random\n",
    "\n",
    "aklımdaki_sayı = random.randint(1,100)\n",
    "\n",
    "while y:\n",
    "\n",
    "    tahmin = int(input(\"1 ile 100 arasında bir sayı tuttum tahmin et. \"))\n",
    "\n",
    "    if aklımdaki_sayı < tahmin:\n",
    "        print(f\"Girdiğiniz sayı: {tahmin}. Tahminini azalt\")\n",
    "\n",
    "    elif aklımdaki_sayı > tahmin: \n",
    "        print(f\"Girdiğiniz sayı: {tahmin}. Tahminini arttır\")\n",
    "\n",
    "    else:\n",
    "        print(f\"Girdiğiniz sayı: {tahmin}. Doğru bildiniz. Tebrikler.\")\n",
    "        y = False"
   ]
  },
  {
   "cell_type": "markdown",
   "metadata": {},
   "source": [
    "## break, contunie"
   ]
  },
  {
   "cell_type": "code",
   "execution_count": 52,
   "metadata": {},
   "outputs": [
    {
     "name": "stdout",
     "output_type": "stream",
     "text": [
      "Girdiğiniz sayı: 67. Tahminini arttır\n",
      "Girdiğiniz sayı: 71. Doğru bildiniz. Tebrikler.\n"
     ]
    }
   ],
   "source": [
    "import random\n",
    "\n",
    "aklımdaki_sayı = random.randint(1,100)\n",
    "\n",
    "while True:\n",
    "\n",
    "    tahmin = int(input(\"1 ile 100 arasında bir sayı tuttum tahmin et. \"))\n",
    "\n",
    "    if aklımdaki_sayı < tahmin:\n",
    "        print(f\"Girdiğiniz sayı: {tahmin}. Tahminini azalt\")\n",
    "\n",
    "    elif aklımdaki_sayı > tahmin: \n",
    "        print(f\"Girdiğiniz sayı: {tahmin}. Tahminini arttır\")\n",
    "\n",
    "    else:\n",
    "        print(f\"Girdiğiniz sayı: {tahmin}. Doğru bildiniz. Tebrikler.\")\n",
    "        break\n",
    "        "
   ]
  },
  {
   "cell_type": "code",
   "execution_count": null,
   "metadata": {},
   "outputs": [],
   "source": [
    "aklımdaki_sayı = 68\n",
    "\n",
    "sayaç = 0\n",
    "\n",
    "while True:\n",
    "\n",
    "    tahmin = int(input(\"1 ile 100 arasında bir sayı tuttum tahmin et. \"))\n",
    "    sayaç += 1\n",
    "\n",
    "    if aklımdaki_sayı < tahmin:\n",
    "        print(f\"Girdiğiniz sayı: {tahmin}. Tahminini azalt.Kalan hakkınız: {5 - sayaç}\")\n",
    "\n",
    "    elif aklımdaki_sayı > tahmin: \n",
    "        print(f\"Girdiğiniz sayı: {tahmin}. Tahminini arttır.Kalan hakkınız: {5 - sayaç}\")\n",
    "\n",
    "    else:\n",
    "        print(f\"Girdiğiniz sayı: {tahmin}. {sayaç} kerede bildiniz. Tebrikler.\")\n",
    "        break\n",
    "\n",
    "    if sayaç == 5:\n",
    "        break"
   ]
  },
  {
   "cell_type": "code",
   "execution_count": 53,
   "metadata": {},
   "outputs": [
    {
     "name": "stdout",
     "output_type": "stream",
     "text": [
      "Girdiğiniz sayı: 25. Tahminini arttır.\n",
      "Girdiğiniz sayı: 38. Tahminini arttır.\n",
      "Girdiğiniz sayı: 68. Tebrikler.\n"
     ]
    }
   ],
   "source": [
    "aklımdaki_sayı = 68\n",
    "\n",
    "x = 1\n",
    "\n",
    "while x <= 5:\n",
    "\n",
    "    tahmin = int(input(\"1 ile 100 arasında bir sayı tuttum tahmin et. \"))\n",
    "    \n",
    "\n",
    "    if aklımdaki_sayı < tahmin:\n",
    "        print(f\"Girdiğiniz sayı: {tahmin}. Tahminini azalt.\")\n",
    "\n",
    "    elif aklımdaki_sayı > tahmin: \n",
    "        print(f\"Girdiğiniz sayı: {tahmin}. Tahminini arttır.\")\n",
    "\n",
    "    else:\n",
    "        print(f\"Girdiğiniz sayı: {tahmin}. Tebrikler.\")\n",
    "        break\n",
    "\n",
    "    x += 1\n",
    "    "
   ]
  },
  {
   "cell_type": "markdown",
   "metadata": {},
   "source": [
    "liste = [1, 2, 3, 4, \"Techpro\", 5, 6, 7] # sırayla int değerleri toplayın. str ifadeye denk gelince kod sonlansın"
   ]
  },
  {
   "cell_type": "code",
   "execution_count": 54,
   "metadata": {},
   "outputs": [
    {
     "name": "stdout",
     "output_type": "stream",
     "text": [
      "10\n"
     ]
    }
   ],
   "source": [
    "liste = [1, 2, 3, 4, \"Techpro\", 5, 6, 7]\n",
    "\n",
    "x = 0\n",
    "\n",
    "toplam = 0\n",
    "\n",
    "while x < len(liste):\n",
    "\n",
    "    if type(liste[x]) == int:\n",
    "        toplam += liste[x]\n",
    "\n",
    "    elif type(liste[x]) == str:\n",
    "\n",
    "        break\n",
    "\n",
    "    x += 1\n",
    "\n",
    "print(toplam)"
   ]
  },
  {
   "cell_type": "markdown",
   "metadata": {},
   "source": [
    "# sırayla int değerleri toplayın. str ifadeye denk gelince o ifedayi atlayın ve toplamaya devam edin."
   ]
  },
  {
   "cell_type": "code",
   "execution_count": 56,
   "metadata": {},
   "outputs": [
    {
     "name": "stdout",
     "output_type": "stream",
     "text": [
      "28\n"
     ]
    }
   ],
   "source": [
    "liste = [1, 2, 3, 4, \"Techpro\", 5, 6, 7]\n",
    "\n",
    "x = 0\n",
    "\n",
    "toplam = 0\n",
    "\n",
    "while x < len(liste):\n",
    "\n",
    "    if type(liste[x]) == int:\n",
    "        toplam += liste[x]\n",
    "\n",
    "    elif type(liste[x]) == str:\n",
    "        x += 1\n",
    "        continue\n",
    "\n",
    "    x += 1\n",
    "\n",
    "print(toplam)\n"
   ]
  },
  {
   "cell_type": "code",
   "execution_count": 59,
   "metadata": {},
   "outputs": [],
   "source": [
    "for i in range(5):\n",
    "    pass\n"
   ]
  },
  {
   "cell_type": "markdown",
   "metadata": {},
   "source": [
    "# for"
   ]
  },
  {
   "cell_type": "code",
   "execution_count": 60,
   "metadata": {},
   "outputs": [
    {
     "data": {
      "text/plain": [
       "False"
      ]
     },
     "execution_count": 60,
     "metadata": {},
     "output_type": "execute_result"
    }
   ],
   "source": [
    "\"a\" in \"techpro\""
   ]
  },
  {
   "cell_type": "code",
   "execution_count": 61,
   "metadata": {},
   "outputs": [
    {
     "data": {
      "text/plain": [
       "True"
      ]
     },
     "execution_count": 61,
     "metadata": {},
     "output_type": "execute_result"
    }
   ],
   "source": [
    "\"e\" in \"techpro\""
   ]
  },
  {
   "cell_type": "code",
   "execution_count": 62,
   "metadata": {},
   "outputs": [
    {
     "name": "stdout",
     "output_type": "stream",
     "text": [
      "t\n",
      "e\n",
      "c\n",
      "h\n",
      "p\n",
      "r\n",
      "o\n"
     ]
    }
   ],
   "source": [
    "for i in \"techpro\": # for döngüsü iterable lar ile çalışır. \n",
    "    print(i)"
   ]
  },
  {
   "cell_type": "code",
   "execution_count": 64,
   "metadata": {},
   "outputs": [
    {
     "name": "stdout",
     "output_type": "stream",
     "text": [
      "tt\n",
      "ee\n",
      "cc\n",
      "hh\n",
      "pp\n",
      "rr\n",
      "oo\n"
     ]
    }
   ],
   "source": [
    "for i in \"techpro\": # for döngüsü iterable lar ile çalışır. \n",
    "    print(i * 2)"
   ]
  },
  {
   "cell_type": "code",
   "execution_count": 65,
   "metadata": {},
   "outputs": [
    {
     "name": "stdout",
     "output_type": "stream",
     "text": [
      "tt\n",
      "ee\n",
      "cc\n",
      "hh\n",
      "pp\n",
      "rr\n",
      "oo\n"
     ]
    }
   ],
   "source": [
    "for k in \"techpro\": # for döngüsü iterable lar ile çalışır. \n",
    "    print(k * 2)"
   ]
  },
  {
   "cell_type": "code",
   "execution_count": 67,
   "metadata": {},
   "outputs": [
    {
     "name": "stdout",
     "output_type": "stream",
     "text": [
      "tt\n",
      "ee\n",
      "cc\n",
      "hh\n",
      "pp\n",
      "rr\n",
      "oo\n"
     ]
    }
   ],
   "source": [
    "for t in \"techpro\": # for döngüsü iterable lar ile çalışır. \n",
    "    print(t * 2)"
   ]
  },
  {
   "cell_type": "code",
   "execution_count": 69,
   "metadata": {},
   "outputs": [
    {
     "name": "stdout",
     "output_type": "stream",
     "text": [
      "1\n",
      "4\n",
      "9\n",
      "16\n",
      "25\n"
     ]
    }
   ],
   "source": [
    "liste_2 = [1, 2, 3, 4, 5]\n",
    "\n",
    "for i in liste_2:\n",
    "    print(i ** 2)\n"
   ]
  },
  {
   "cell_type": "code",
   "execution_count": 70,
   "metadata": {},
   "outputs": [
    {
     "name": "stdout",
     "output_type": "stream",
     "text": [
      "1\n",
      "4\n",
      "9\n",
      "16\n",
      "25\n"
     ]
    }
   ],
   "source": [
    "x = 0\n",
    "\n",
    "while x < len(liste_2):\n",
    "\n",
    "    print(liste_2[x] ** 2)\n",
    "\n",
    "    x += 1"
   ]
  },
  {
   "cell_type": "code",
   "execution_count": 71,
   "metadata": {},
   "outputs": [
    {
     "name": "stdout",
     "output_type": "stream",
     "text": [
      "1 sayısının karesi: 1\n",
      "2 sayısının karesi: 4\n",
      "3 sayısının karesi: 9\n",
      "4 sayısının karesi: 16\n",
      "5 sayısının karesi: 25\n"
     ]
    }
   ],
   "source": [
    "tuple_1 = (1,2,3,4,5)\n",
    "\n",
    "for i in tuple_1:\n",
    "    print(f\"{i} sayısının karesi: {i ** 2}\")"
   ]
  },
  {
   "cell_type": "code",
   "execution_count": 73,
   "metadata": {},
   "outputs": [
    {
     "name": "stdout",
     "output_type": "stream",
     "text": [
      "Ahmet\n",
      "Bahar\n",
      "Hakan\n",
      "Hamdi\n"
     ]
    }
   ],
   "source": [
    "isimler_listesi = [\"ahmet\", \"bahar\", \"hakan\", \"hamdi\"]\n",
    "\n",
    "for i in isimler_listesi:\n",
    "    print(i.capitalize())"
   ]
  },
  {
   "cell_type": "code",
   "execution_count": 75,
   "metadata": {},
   "outputs": [
    {
     "name": "stdout",
     "output_type": "stream",
     "text": [
      "['Ahmet', 'Bahar', 'Hakan', 'Hamdi']\n"
     ]
    }
   ],
   "source": [
    "isimler_listesi = [\"ahmet\", \"bahar\", \"hakan\", \"hamdi\"]\n",
    "\n",
    "düzeltilmiş_isim_listesi = []\n",
    "\n",
    "for i in isimler_listesi:\n",
    "    düzeltilmiş_isim_listesi.append(i.capitalize())\n",
    "\n",
    "print(düzeltilmiş_isim_listesi)\n",
    "\n"
   ]
  },
  {
   "cell_type": "code",
   "execution_count": null,
   "metadata": {},
   "outputs": [],
   "source": [
    "\"Techpro\" >>>>> \"T-e-c-h-p-r-o\""
   ]
  },
  {
   "cell_type": "code",
   "execution_count": 76,
   "metadata": {},
   "outputs": [
    {
     "name": "stdout",
     "output_type": "stream",
     "text": [
      "T-e-c-h-p-r-o-"
     ]
    }
   ],
   "source": [
    "for i in \"Techpro\":\n",
    "    print(i, end= \"-\")"
   ]
  },
  {
   "cell_type": "code",
   "execution_count": 78,
   "metadata": {},
   "outputs": [
    {
     "name": "stdout",
     "output_type": "stream",
     "text": [
      "T-e-c-h-p-r-o\n"
     ]
    }
   ],
   "source": [
    "new_str = \"\"\n",
    "\n",
    "for i in \"Techpro\":\n",
    "    new_str += i + \"-\"\n",
    "\n",
    "print(new_str.rstrip(\"-\"))"
   ]
  },
  {
   "cell_type": "code",
   "execution_count": 79,
   "metadata": {},
   "outputs": [
    {
     "name": "stdout",
     "output_type": "stream",
     "text": [
      "T\n",
      "e\n",
      "c\n",
      "h\n",
      "p\n",
      "r\n",
      "o\n"
     ]
    }
   ],
   "source": [
    "for i in \"Techpro\":\n",
    "    print(i)"
   ]
  },
  {
   "cell_type": "markdown",
   "metadata": {},
   "source": [
    "## min(), max()"
   ]
  },
  {
   "cell_type": "code",
   "execution_count": 80,
   "metadata": {},
   "outputs": [],
   "source": [
    "liste_3 = [2, 5, 1, 3, 9, 4, 6, 8, 15, 48, 256]"
   ]
  },
  {
   "cell_type": "code",
   "execution_count": 81,
   "metadata": {},
   "outputs": [
    {
     "data": {
      "text/plain": [
       "1"
      ]
     },
     "execution_count": 81,
     "metadata": {},
     "output_type": "execute_result"
    }
   ],
   "source": [
    "min(liste_3)"
   ]
  },
  {
   "cell_type": "code",
   "execution_count": 82,
   "metadata": {},
   "outputs": [
    {
     "data": {
      "text/plain": [
       "256"
      ]
     },
     "execution_count": 82,
     "metadata": {},
     "output_type": "execute_result"
    }
   ],
   "source": [
    "max(liste_3)"
   ]
  },
  {
   "cell_type": "code",
   "execution_count": 84,
   "metadata": {},
   "outputs": [
    {
     "data": {
      "text/plain": [
       "'hakan'"
      ]
     },
     "execution_count": 84,
     "metadata": {},
     "output_type": "execute_result"
    }
   ],
   "source": [
    "min([\"hakan\", \"yunus\", \"yasin\"])"
   ]
  },
  {
   "cell_type": "code",
   "execution_count": 85,
   "metadata": {},
   "outputs": [
    {
     "ename": "TypeError",
     "evalue": "'<' not supported between instances of 'int' and 'str'",
     "output_type": "error",
     "traceback": [
      "\u001b[1;31m---------------------------------------------------------------------------\u001b[0m",
      "\u001b[1;31mTypeError\u001b[0m                                 Traceback (most recent call last)",
      "Cell \u001b[1;32mIn[85], line 1\u001b[0m\n\u001b[1;32m----> 1\u001b[0m \u001b[38;5;28;43mmin\u001b[39;49m\u001b[43m(\u001b[49m\u001b[43m[\u001b[49m\u001b[38;5;124;43m\"\u001b[39;49m\u001b[38;5;124;43mhakan\u001b[39;49m\u001b[38;5;124;43m\"\u001b[39;49m\u001b[43m,\u001b[49m\u001b[43m \u001b[49m\u001b[38;5;124;43m\"\u001b[39;49m\u001b[38;5;124;43myunus\u001b[39;49m\u001b[38;5;124;43m\"\u001b[39;49m\u001b[43m,\u001b[49m\u001b[43m \u001b[49m\u001b[38;5;124;43m\"\u001b[39;49m\u001b[38;5;124;43myasin\u001b[39;49m\u001b[38;5;124;43m\"\u001b[39;49m\u001b[43m,\u001b[49m\u001b[43m \u001b[49m\u001b[38;5;241;43m15\u001b[39;49m\u001b[43m]\u001b[49m\u001b[43m)\u001b[49m\n",
      "\u001b[1;31mTypeError\u001b[0m: '<' not supported between instances of 'int' and 'str'"
     ]
    }
   ],
   "source": [
    "min([\"hakan\", \"yunus\", \"yasin\", 15])"
   ]
  },
  {
   "cell_type": "markdown",
   "metadata": {},
   "source": [
    "liste_1 = [4,5,6,9,85,23,65,47,32,91] listenin en küçük ve en büyük elemanını min ve max fpnksiyonu kullanmadan bulun. sort fonk da kullanmayın. while ile min değeri for ile max değeri bulun. "
   ]
  },
  {
   "cell_type": "code",
   "execution_count": 12,
   "metadata": {},
   "outputs": [
    {
     "name": "stdout",
     "output_type": "stream",
     "text": [
      "Liste_1 min degeri: 4\n",
      "Liste_1 max degeri: 91\n"
     ]
    }
   ],
   "source": [
    "\n",
    "liste_1 = [4, 5, 6, 9, 85, 23, 65, 47, 32, 91]\n",
    "\n",
    "min_sayı = liste_1[0]\n",
    "x = 1\n",
    "while x < len(liste_1):\n",
    "    if liste_1[x] < min_sayı:\n",
    "        min_sayı = liste_1[x]\n",
    "    x += 1\n",
    " \n",
    "max_sayı = liste_1[0]\n",
    "for num in liste_1:\n",
    "    if num > max_sayı:\n",
    "        max_sayı = num\n",
    "\n",
    "print(\"Liste_1 min degeri:\", min_sayı)\n",
    "print(\"Liste_1 max degeri:\", max_sayı)"
   ]
  },
  {
   "cell_type": "code",
   "execution_count": 1,
   "metadata": {},
   "outputs": [
    {
     "data": {
      "text/plain": [
       "[8, 12, 14, 23, 25, 31, 32, 38, 40, 43, 49]"
      ]
     },
     "execution_count": 1,
     "metadata": {},
     "output_type": "execute_result"
    }
   ],
   "source": [
    "number_list = [48, 10, 11, 21, 36, 5, 6, 52, 28, 29,\n",
    "               53, 54, 45, 19, 20, 47, 55, 39, 41, 7,\n",
    "               9, 17, 26, 27, 42, 22, 37, 51, 46, 18,\n",
    "               44, 30, 34, 13, 15, 35, 33, 16, 50, 24]\n",
    "\n",
    "min_value = min(number_list)\n",
    "max_value = max(number_list)\n",
    "\n",
    "full_range = set(range(min_value, max_value + 1))\n",
    "number_set = set(number_list)\n",
    "\n",
    "missing_numbers = sorted(full_range - number_set)\n",
    "missing_numbers"
   ]
  },
  {
   "cell_type": "code",
   "execution_count": 2,
   "metadata": {},
   "outputs": [
    {
     "name": "stdout",
     "output_type": "stream",
     "text": [
      "Kayıp Sayılar: [8, 12, 14, 23, 25, 31, 32, 38, 40, 43, 49]\n"
     ]
    }
   ],
   "source": [
    "number_list = [48, 10, 11, 21, 36, 5, 6, 52, 28, 29,\n",
    "               53, 54, 45, 19, 20, 47, 55, 39, 41, 7,\n",
    "               9, 17, 26, 27, 42, 22, 37, 51, 46, 18,\n",
    "               44, 30, 34, 13, 15, 35, 33, 16, 50, 24]\n",
    "\n",
    "\n",
    "tum_sayilar = set(range(min(number_list), max(number_list) + 1))\n",
    "\n",
    "verilen_sayilar = set(number_list)\n",
    "\n",
    "kayip_sayilar = sorted(tum_sayilar - verilen_sayilar)\n",
    "\n",
    "print(\"Kayıp Sayılar:\", kayip_sayilar)"
   ]
  },
  {
   "cell_type": "code",
   "execution_count": 3,
   "metadata": {},
   "outputs": [
    {
     "name": "stdout",
     "output_type": "stream",
     "text": [
      "Verilen sayılar listesindeki tek sayılar:\n",
      "[1, 15, 5, 89, 45, 71, 45, 95, 61]\n"
     ]
    }
   ],
   "source": [
    "sayilar_listesi = [1, 15, 2, 36, 5, 89, 45, 62, 52, 71, 30, 56, 45, 95, 61, 48]\n",
    "\n",
    " tek_sayilari_bul(sayilar):\n",
    "    tek_sayilar = []\n",
    "    for sayi in sayilar:\n",
    "        if sayi % 2 == 1:\n",
    "            tek_sayilar.append(sayi)\n",
    "    return tek_sayilar\n",
    "\n",
    "# Tek sayıları liste olarak al\n",
    "tek_sayilar_listesi = tek_sayilari_bul(sayilar_listesi)\n",
    "\n",
    "# Sonuçları görüntüle\n",
    "print(\"Verilen sayılar listesindeki tek sayılar:\")\n",
    "print(tek_sayilar_listesi)"
   ]
  },
  {
   "cell_type": "code",
   "execution_count": 4,
   "metadata": {},
   "outputs": [
    {
     "name": "stdout",
     "output_type": "stream",
     "text": [
      "[1, 15, 5, 89, 45, 71, 45, 95, 61]\n"
     ]
    }
   ],
   "source": [
    "sayılar_listesi = [1, 15, 2, 36, 5, 89, 45, 62, 52, 71, 30, 56, 45, 95, 61, 48]\n",
    "\n",
    "tek_sayılar = [sayı for sayı in sayılar_listesi if sayı % 2 != 0]\n",
    "\n",
    "print(tek_sayılar)"
   ]
  },
  {
   "cell_type": "code",
   "execution_count": 5,
   "metadata": {},
   "outputs": [
    {
     "ename": "NameError",
     "evalue": "name 'armstrong_mu' is not defined",
     "output_type": "error",
     "traceback": [
      "\u001b[1;31m---------------------------------------------------------------------------\u001b[0m",
      "\u001b[1;31mNameError\u001b[0m                                 Traceback (most recent call last)",
      "Cell \u001b[1;32mIn[5], line 5\u001b[0m\n\u001b[0;32m      1\u001b[0m sayi \u001b[38;5;241m=\u001b[39m \u001b[38;5;28mint\u001b[39m(\u001b[38;5;28minput\u001b[39m(\u001b[38;5;124m\"\u001b[39m\u001b[38;5;124mLütfen 3 basamaklı bir sayı giriniz: \u001b[39m\u001b[38;5;124m\"\u001b[39m))\n\u001b[0;32m      4\u001b[0m \u001b[38;5;28;01mif\u001b[39;00m \u001b[38;5;241m100\u001b[39m \u001b[38;5;241m<\u001b[39m\u001b[38;5;241m=\u001b[39m sayi \u001b[38;5;241m<\u001b[39m\u001b[38;5;241m=\u001b[39m \u001b[38;5;241m999\u001b[39m:\n\u001b[1;32m----> 5\u001b[0m     \u001b[38;5;28;01mif\u001b[39;00m \u001b[43marmstrong_mu\u001b[49m(sayi):\n\u001b[0;32m      6\u001b[0m         \u001b[38;5;28mprint\u001b[39m(\u001b[38;5;124mf\u001b[39m\u001b[38;5;124m\"\u001b[39m\u001b[38;5;132;01m{\u001b[39;00msayi\u001b[38;5;132;01m}\u001b[39;00m\u001b[38;5;124m bir Armstrong sayısıdır.\u001b[39m\u001b[38;5;124m\"\u001b[39m)\n\u001b[0;32m      7\u001b[0m     \u001b[38;5;28;01melse\u001b[39;00m:\n",
      "\u001b[1;31mNameError\u001b[0m: name 'armstrong_mu' is not defined"
     ]
    }
   ],
   "source": [
    "sayi = int(input(\"Lütfen 3 basamaklı bir sayı giriniz: \"))\n",
    "\n",
    "\n",
    "if 100 <= sayi <= 999:\n",
    "    if armstrong_mu(sayi):\n",
    "        print(f\"{sayi} bir Armstrong sayısıdır.\")\n",
    "    else:\n",
    "        print(f\"{sayi} bir Armstrong sayısı değildir.\")\n",
    "else:\n",
    "    print(\"Lütfen 3 basamaklı bir sayı giriniz.\")"
   ]
  },
  {
   "cell_type": "code",
   "execution_count": 6,
   "metadata": {},
   "outputs": [
    {
     "name": "stdout",
     "output_type": "stream",
     "text": [
      "153 bir Armstrong sayısıdır.\n"
     ]
    }
   ],
   "source": [
    "def armstrong_mu(sayi):\n",
    "    # Sayının basamaklarını ayırma\n",
    "    yuzler_basamagi = sayi // 100\n",
    "    onlar_basamagi = (sayi % 100) // 10\n",
    "    birler_basamagi = sayi % 10\n",
    "    \n",
    "    # Basamakların küplerinin toplamını hesaplama\n",
    "    toplam = yuzler_basamagi**3 + onlar_basamagi**3 + birler_basamagi**3\n",
    "    \n",
    "    # Armstrong sayısı olup olmadığını kontrol etme\n",
    "    return toplam == sayi\n",
    "\n",
    "# Kullanıcıdan girdi alma\n",
    "sayi = int(input(\"Lütfen 3 basamaklı bir sayı giriniz: \"))\n",
    "\n",
    "# 3 basamaklı olup olmadığını kontrol etme\n",
    "if 100 <= sayi <= 999:\n",
    "    if armstrong_mu(sayi):\n",
    "        print(f\"{sayi} bir Armstrong sayısıdır.\")\n",
    "    else:\n",
    "        print(f\"{sayi} bir Armstrong sayısı değildir.\")\n",
    "else:\n",
    "    print(\"Lütfen 3 basamaklı bir sayı giriniz.\")"
   ]
  },
  {
   "cell_type": "code",
   "execution_count": 7,
   "metadata": {},
   "outputs": [
    {
     "ename": "NameError",
     "evalue": "name 'yuzler' is not defined",
     "output_type": "error",
     "traceback": [
      "\u001b[1;31m---------------------------------------------------------------------------\u001b[0m",
      "\u001b[1;31mNameError\u001b[0m                                 Traceback (most recent call last)",
      "Cell \u001b[1;32mIn[7], line 7\u001b[0m\n\u001b[0;32m      1\u001b[0m sayi \u001b[38;5;241m=\u001b[39m \u001b[38;5;28mint\u001b[39m(\u001b[38;5;28minput\u001b[39m(\u001b[38;5;124m\"\u001b[39m\u001b[38;5;124mLütfen 3 basamaklı bir sayı giriniz: \u001b[39m\u001b[38;5;124m\"\u001b[39m))\n\u001b[0;32m      4\u001b[0m \u001b[38;5;28;01mif\u001b[39;00m \u001b[38;5;241m100\u001b[39m \u001b[38;5;241m<\u001b[39m\u001b[38;5;241m=\u001b[39m sayi \u001b[38;5;241m<\u001b[39m\u001b[38;5;241m=\u001b[39m \u001b[38;5;241m999\u001b[39m:\n\u001b[0;32m      5\u001b[0m    \n\u001b[0;32m      6\u001b[0m     \u001b[38;5;66;03m# Basamakların küplerinin toplamını hesaplama\u001b[39;00m\n\u001b[1;32m----> 7\u001b[0m     toplam \u001b[38;5;241m=\u001b[39m \u001b[43myuzler\u001b[49m\u001b[38;5;241m*\u001b[39m\u001b[38;5;241m*\u001b[39m\u001b[38;5;241m3\u001b[39m \u001b[38;5;241m+\u001b[39m onlar\u001b[38;5;241m*\u001b[39m\u001b[38;5;241m*\u001b[39m\u001b[38;5;241m3\u001b[39m \u001b[38;5;241m+\u001b[39m birler\u001b[38;5;241m*\u001b[39m\u001b[38;5;241m*\u001b[39m\u001b[38;5;241m3\u001b[39m\n\u001b[0;32m      9\u001b[0m     \u001b[38;5;66;03m# Armstrong sayısı olup olmadığını kontrol etme\u001b[39;00m\n\u001b[0;32m     10\u001b[0m     \u001b[38;5;28;01mif\u001b[39;00m toplam \u001b[38;5;241m==\u001b[39m sayi:\n",
      "\u001b[1;31mNameError\u001b[0m: name 'yuzler' is not defined"
     ]
    }
   ],
   "source": [
    "\n",
    "sayi = int(input(\"Lütfen 3 basamaklı bir sayı giriniz: \"))\n",
    "\n",
    "\n",
    "if 100 <= sayi <= 999:\n",
    "   \n",
    "    # Basamakların küplerinin toplamını hesaplama\n",
    "    toplam = yuzler**3 + onlar**3 + birler**3\n",
    "    \n",
    "    # Armstrong sayısı olup olmadığını kontrol etme\n",
    "    if toplam == sayi:\n",
    "        print(f\"{sayi} bir Armstrong sayısıdır.\")\n",
    "    else:\n",
    "        print(f\"{sayi} bir Armstrong sayısı değildir.\")\n",
    "else:\n",
    "    print(\"Lütfen 3 basamaklı bir sayı giriniz.\")"
   ]
  },
  {
   "cell_type": "code",
   "execution_count": 10,
   "metadata": {},
   "outputs": [
    {
     "name": "stdout",
     "output_type": "stream",
     "text": [
      "Marketimize hoş geldiniz!\n",
      "Ürün Listesi:\n",
      "1: Elma\n",
      "2: Portakal\n",
      "3: Çilek\n",
      "4: Yumurta\n",
      "5: Havuç\n",
      "6: Armut\n",
      "Çıkış için \"q\" tuşuna basabilirsiniz.\n",
      "Geçersiz ürün kodu. Lütfen tekrar deneyin.\n",
      "Geçersiz ürün kodu. Lütfen tekrar deneyin.\n",
      "Teşekkür Ederiz...\n",
      "Sepetinizde ürün bulunmamaktadır.\n"
     ]
    }
   ],
   "source": [
    "urunler = {\n",
    "    \"1\": \"Elma\",\n",
    "    \"2\": \"Portakal\",\n",
    "    \"3\": \"Çilek\",\n",
    "    \"4\": \"Yumurta\",\n",
    "    \"5\": \"Havuç\",\n",
    "    \"6\": \"Armut\"\n",
    "}\n",
    "\n",
    "sepet = []\n",
    "\n",
    "print(\"Marketimize hoş geldiniz!\")\n",
    "print(\"Ürün Listesi:\")\n",
    "for kod, urun in urunler.items():\n",
    "    print(f\"{kod}: {urun}\")\n",
    "\n",
    "print('Çıkış için \"q\" tuşuna basabilirsiniz.')\n",
    "\n",
    "while True:\n",
    "    secim = input(\"Almak istediğiniz ürünün kodunu giriniz: \")\n",
    "    \n",
    "    if secim == \"q\":\n",
    "        break\n",
    "    \n",
    "    if secim in urunler:\n",
    "        urun_adi = urunler[secim]\n",
    "        sepet.append(urun_adi)\n",
    "        print(f\"{urun_adi} sepete eklendi.\")\n",
    "    else:\n",
    "        print(\"Geçersiz ürün kodu. Lütfen tekrar deneyin.\")\n",
    "        \n",
    "print(\"Teşekkür Ederiz...\")\n",
    "if sepet:\n",
    "    print(\"Sepetinizde Bulunan Ürünler: \" + \", \".join(sepet))\n",
    "else:\n",
    "    print(\"Sepetinizde ürün bulunmamaktadır.\")"
   ]
  }
 ],
 "metadata": {
  "kernelspec": {
   "display_name": "base",
   "language": "python",
   "name": "python3"
  },
  "language_info": {
   "codemirror_mode": {
    "name": "ipython",
    "version": 3
   },
   "file_extension": ".py",
   "mimetype": "text/x-python",
   "name": "python",
   "nbconvert_exporter": "python",
   "pygments_lexer": "ipython3",
   "version": "3.12.4"
  }
 },
 "nbformat": 4,
 "nbformat_minor": 2
}
